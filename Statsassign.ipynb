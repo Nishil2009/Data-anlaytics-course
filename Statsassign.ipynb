{
  "nbformat": 4,
  "nbformat_minor": 0,
  "metadata": {
    "colab": {
      "provenance": [],
      "authorship_tag": "ABX9TyNy64WPgi18x6uNYv5OdlR5",
      "include_colab_link": true
    },
    "kernelspec": {
      "name": "python3",
      "display_name": "Python 3"
    },
    "language_info": {
      "name": "python"
    }
  },
  "cells": [
    {
      "cell_type": "markdown",
      "metadata": {
        "id": "view-in-github",
        "colab_type": "text"
      },
      "source": [
        "<a href=\"https://colab.research.google.com/github/Nishil2009/Data-anlaytics-course/blob/main/Statsassign.ipynb\" target=\"_parent\"><img src=\"https://colab.research.google.com/assets/colab-badge.svg\" alt=\"Open In Colab\"/></a>"
      ]
    },
    {
      "cell_type": "markdown",
      "source": [
        "1. What is the difference between descriptive statistics and inferential statistics? Explain with examples.\n",
        "\n",
        "-> Descriptive Statistics\n",
        "Descriptive statistics focus on summarizing and organizing the characteristics of a data set. They provide simple summaries about the sample and the measures. These statistics help describe, show, or summarize data in a meaningful way so that patterns might emerge from the data.\n",
        "\n",
        "Examples of Descriptive Statistics:\n",
        "\n",
        "-Mean, median, and mode: For example, if a teacher records the test scores of 30 students and calculates the average score (mean), the most common score (mode), and the middle value (median), these are descriptive statistics.\n",
        "\n",
        "-Standard deviation and variance: These tell us how spread out the scores are.\n",
        "\n",
        "-Frequency distributions: If a survey gathers data on favorite colors in a class, a bar chart showing the number of people choosing each color is a descriptive statistic.\n",
        "\n",
        "-> Inferential Statistics\n",
        "Inferential statistics use a random sample of data taken from a population to make inferences about the population. They are used when it is impractical or impossible to collect data from every member of a population.\n",
        "\n",
        "Examples of Inferential Statistics:\n",
        "\n",
        "-Hypothesis testing: For example, using a sample of voters to infer whether a candidate is likely to win an election nationally.\n",
        "\n",
        "-Confidence intervals: Estimating the average height of all adults in a country based on a measured sample with a certain level of confidence.\n",
        "\n",
        "-Regression analysis: Determining the relationship between advertising spend (predictor) and sales revenue (outcome) for an entire market using sampled data.\n",
        "\n",
        "2. What is sampling in statistics? Explain the differences between random\n",
        "and stratified sampling.\n",
        "\n",
        "-> Sampling in statistics is the process of selecting a subset—called a sample—from a larger group known as the population. The main goal is to use the information from the sample to make inferences or generalizations about the entire population. Sampling is essential when surveying every member of a population is impractical, time-consuming, or costly.\n",
        "\n",
        "Types of Sampling Methods\n",
        "A.) Random Sampling\n",
        "\n",
        "In random sampling (also known as simple random sampling), every member of the population has an equal chance of being selected. The sample is chosen purely by chance, often using random number generators or drawing lots.\n",
        "\n",
        "Example: Imagine you have a list of 1,000 students, and you want to select 100 to survey about cafeteria food satisfaction. If you randomly select 100 names so every student has the same likelihood of being chosen, you are using random sampling.\n",
        "\n",
        "Advantages:\n",
        "Minimizes selection bias.\n",
        "Results are generally representative of the population if the sample size is large enough.\n",
        "\n",
        "Limitations:\n",
        "May not ensure representation of important subgroups within the population, especially if those groups are small.\n",
        "\n",
        "B.) Stratified Sampling\n",
        "\n",
        "In stratified sampling, the population is first divided into distinct subgroups (called strata) based on a particular characteristic (such as age, gender, or income level). Then, a random sample is taken from each stratum in proportion to its size in the population.\n",
        "\n",
        "Example: Suppose a school's student body is 60% female and 40% male. If you want to survey 100 students, you divide them into two strata: females (600) and males (400). Then you randomly select 60 females and 40 males, ensuring the sample reflects the real gender distribution.\n",
        "\n",
        "Advantages:\n",
        "Guarantees representation of all key subgroups.\n",
        "More accurate estimates for population parameters, especially when subgroups differ significantly.\n",
        "\n",
        "Limitations:\n",
        "More complex to administer, as it requires detailed information about the population to form strata.\n",
        "\n",
        "3. Define mean, median, and mode. Explain why these measures of central\n",
        "tendency are important.\n",
        "\n",
        "-> Mean (Arithmetic Average):\n",
        "\n",
        "The mean is calculated by adding up all the numbers in a data set and dividing by the total number of values.\n",
        "\n",
        "Example: For data set [2, 4, 6, 8,10] is (2+4+6+8+10)/5=6\n",
        "\n",
        "The mean is sensitive to outliers; a very large or very small number can greatly affect its value.\n",
        "\n",
        "Median:\n",
        "\n",
        "The median is the middle value when the data set is arranged in ascending or descending order. If there's an odd number of values, it's the exact middle. If even, it's the average of the two middle values.\n",
        "\n",
        "Example: For [2, 4] median is 6. For , median is (4+6)/2=5\n",
        "\n",
        "The median is robust to outliers and is often used when the data is skewed.\n",
        "\n",
        "Mode:\n",
        "\n",
        "The mode is the value that appears most frequently in a data set.\n",
        "\n",
        "Example: For [2, 4, mode is 4.\n",
        "\n",
        "There can be more than one mode or no mode at all if all values are unique. Mode is applicable for both numerical and categorical data.\n",
        "\n",
        "Importance of Measures of Central Tendency\n",
        "Summarizing Data: These measures provide a concise summary, condensing a large data set into a single representative number, making complex data easier to interpret and compare.\n",
        "\n",
        "Identifying Typical Values: They help identify what is typical or average for a data set, enabling quick insights into patterns and trends.\n",
        "\n",
        "Supporting Decision-Making: Whether in business, healthcare, education, or social sciences, knowing the mean, median, or mode guides reporting, comparisons, and policy decisions (e.g., setting salaries, understanding test scores, measuring customer satisfaction).\n",
        "\n",
        "Handling Different Data Distributions: If data is symmetrically distributed, the mean is often preferred. For skewed data or data with outliers, the median gives a better sense of central tendency. The mode is particularly useful for categorical data, indicating the most common category (e.g., most popular product size).\n",
        "\n",
        "4. Explain skewness and kurtosis. What does a positive skew imply about the\n",
        "data?\n",
        "\n",
        "Skewness:\n",
        "-Skewness measures the asymmetry of a data distribution.\n",
        "-It is a perfectly symmetrical distribution (like the normal distribution) has zero skewness.\n",
        "\n",
        "Kurtosis:\n",
        "-Kurtosis measures the \"tailedness\" or peakedness of a distribution.\n",
        "-It tells us how much of the variance is due to extreme values (outliers).\n",
        "\n",
        "-> A positive skew implies:\n",
        "\n",
        "-The data has a longer tail on the right.\n",
        "-Majority of values are lower, but there are some high outliers.\n",
        "\n",
        "Examples: income distribution, real estate prices, etc.\n",
        "\n",
        "\n",
        "\n"
      ],
      "metadata": {
        "id": "GYMM-XH5sUhd"
      }
    },
    {
      "cell_type": "code",
      "source": [
        "#5. Implement a Python program to compute the mean, median, and mode of a give list of numbers\n",
        "\n",
        "# Import necessary libraries\n",
        "import statistics\n",
        "\n",
        "# Define the list of numbers\n",
        "data = [12, 15, 12, 15, 18, 21, 12, 18, 25]\n",
        "\n",
        "# Compute Mean\n",
        "mean_value = statistics.mean(data)\n",
        "\n",
        "# Compute Median\n",
        "median_value = statistics.median(data)\n",
        "\n",
        "# Compute Mode\n",
        "mode_value = statistics.mode(data)\n",
        "\n",
        "# Print the results\n",
        "print(\"Given Data:\", data)\n",
        "print(\"Mean:\", mean_value)\n",
        "print(\"Median:\", median_value)\n",
        "print(\"Mode:\", mode_value)"
      ],
      "metadata": {
        "colab": {
          "base_uri": "https://localhost:8080/"
        },
        "id": "rbIsozzdUtU_",
        "outputId": "b5dc90a2-9735-4d27-b229-db5aeeb6b73a"
      },
      "execution_count": 5,
      "outputs": [
        {
          "output_type": "stream",
          "name": "stdout",
          "text": [
            "Given Data: [12, 15, 12, 15, 18, 21, 12, 18, 25]\n",
            "Mean: 16.444444444444443\n",
            "Median: 15\n",
            "Mode: 12\n"
          ]
        }
      ]
    },
    {
      "cell_type": "code",
      "source": [
        "#6. Compute the covariance and correlation coefficient between the following two datasets provided as lists in Python\n",
        "\n",
        "import numpy as np\n",
        "\n",
        "# Given datasets\n",
        "list_x = [10, 20, 30, 40, 50]\n",
        "list_y = [15, 25, 35, 45, 60]\n",
        "\n",
        "# Convert to numpy arrays\n",
        "x = np.array(list_x)\n",
        "y = np.array(list_y)\n",
        "\n",
        "# Compute covariance matrix\n",
        "cov_matrix = np.cov(x, y, bias=False)\n",
        "cov_xy = cov_matrix[0, 1]\n",
        "\n",
        "# Compute correlation coefficient\n",
        "corr_matrix = np.corrcoef(x, y)\n",
        "corr_xy = corr_matrix[0, 1]\n",
        "\n",
        "# Output\n",
        "print(\"List X:\", list_x)\n",
        "print(\"List Y:\", list_y)\n",
        "print(\"Covariance:\", cov_xy)\n",
        "print(\"Correlation Coefficient:\", corr_xy)"
      ],
      "metadata": {
        "colab": {
          "base_uri": "https://localhost:8080/"
        },
        "id": "tWZKAPhwWDUz",
        "outputId": "434d33f0-8c98-4507-a4f4-938eed9262d7"
      },
      "execution_count": 7,
      "outputs": [
        {
          "output_type": "stream",
          "name": "stdout",
          "text": [
            "List X: [10, 20, 30, 40, 50]\n",
            "List Y: [15, 25, 35, 45, 60]\n",
            "Covariance: 275.0\n",
            "Correlation Coefficient: 0.995893206467704\n"
          ]
        }
      ]
    },
    {
      "cell_type": "code",
      "source": [
        "#7. Write a Python script to draw a boxplot for the following numeric list and identify its outliers. Explain the result:\n",
        "\n",
        "import matplotlib.pyplot as plt\n",
        "import numpy as np\n",
        "\n",
        "# Given data\n",
        "data = [12, 14, 14, 15, 18, 19, 19, 21, 22, 22, 23, 23, 24, 26, 29, 35]\n",
        "\n",
        "# Create boxplot\n",
        "plt.figure(figsize=(6, 4))\n",
        "plt.boxplot(data, vert=False, patch_artist=True, boxprops=dict(facecolor=\"lightblue\"))\n",
        "plt.title(\"Boxplot of Data\")\n",
        "plt.xlabel(\"Values\")\n",
        "plt.grid(True)\n",
        "plt.show()\n",
        "\n",
        "# Identify outliers using IQR\n",
        "Q1 = np.percentile(data, 25)\n",
        "Q3 = np.percentile(data, 75)\n",
        "IQR = Q3 - Q1\n",
        "\n",
        "lower_bound = Q1 - 1.5 * IQR\n",
        "upper_bound = Q3 + 1.5 * IQR\n",
        "\n",
        "outliers = [x for x in data if x < lower_bound or x > upper_bound]\n",
        "\n",
        "print(f\"Q1 (25th percentile): {Q1}\")\n",
        "print(f\"Q3 (75th percentile): {Q3}\")\n",
        "print(f\"IQR (Q3 - Q1): {IQR}\")\n",
        "print(f\"Lower Bound: {lower_bound}\")\n",
        "print(f\"Upper Bound: {upper_bound}\")\n",
        "print(f\"Outliers: {outliers}\")"
      ],
      "metadata": {
        "colab": {
          "base_uri": "https://localhost:8080/",
          "height": 514
        },
        "id": "gMXDVqX9Wakg",
        "outputId": "4bbc790d-2b81-4a9a-cca6-46c710854442"
      },
      "execution_count": 8,
      "outputs": [
        {
          "output_type": "display_data",
          "data": {
            "text/plain": [
              "<Figure size 600x400 with 1 Axes>"
            ],
            "image/png": "[encoded data removed]"
          },
          "metadata": {}
        },
        {
          "output_type": "stream",
          "name": "stdout",
          "text": [
            "Q1 (25th percentile): 17.25\n",
            "Q3 (75th percentile): 23.25\n",
            "IQR (Q3 - Q1): 6.0\n",
            "Lower Bound: 8.25\n",
            "Upper Bound: 32.25\n",
            "Outliers: [35]\n"
          ]
        }
      ]
    },
    {
      "cell_type": "code",
      "source": [
        "#8. You are working as a data analyst in an e-commerce company. The marketing team wants to know if there is a relationship between advertising spend and daily sales. Explain how you would use covariance and correlation to explore this relationship. Write Python code to compute the correlation between the two lists:\n",
        "\n",
        "import numpy as np\n",
        "\n",
        "# Data\n",
        "advertising_spend = [200, 250, 300, 400, 500]\n",
        "daily_sales = [2200, 2450, 2750, 3200, 4000]\n",
        "\n",
        "# Convert to numpy arrays\n",
        "ad = np.array(advertising_spend)\n",
        "sales = np.array(daily_sales)\n",
        "\n",
        "# Compute covariance\n",
        "cov_matrix = np.cov(ad, sales, bias=False)\n",
        "cov_value = cov_matrix[0, 1]\n",
        "\n",
        "# Compute correlation\n",
        "corr_matrix = np.corrcoef(ad, sales)\n",
        "corr_value = corr_matrix[0, 1]\n",
        "\n",
        "# Output results\n",
        "print(\"Covariance:\", cov_value)\n",
        "print(\"Correlation Coefficient:\", corr_value)"
      ],
      "metadata": {
        "colab": {
          "base_uri": "https://localhost:8080/"
        },
        "id": "iTqPZbDXW9bi",
        "outputId": "07f28246-64d5-4db2-aed4-8102498c9eb9"
      },
      "execution_count": 9,
      "outputs": [
        {
          "output_type": "stream",
          "name": "stdout",
          "text": [
            "Covariance: 84875.0\n",
            "Correlation Coefficient: 0.9935824101653329\n"
          ]
        }
      ]
    },
    {
      "cell_type": "code",
      "source": [
        "#9. Write Python code to create a histogram using Matplotlib for the survey data:\n",
        "\n",
        "import matplotlib.pyplot as plt\n",
        "\n",
        "# Sample survey data (you can replace this with actual data)\n",
        "survey_data = [8, 9, 7, 6, 8, 9, 7, 10, 6, 8, 7, 7, 9, 10, 6, 5, 8, 9, 7, 6]\n",
        "\n",
        "# Create histogram\n",
        "plt.figure(figsize=(8, 5))\n",
        "plt.hist(survey_data, bins=10, edgecolor='black', color='skyblue')\n",
        "plt.title(\"Customer Satisfaction Survey Distribution\")\n",
        "plt.xlabel(\"Satisfaction Rating (1 to 10)\")\n",
        "plt.ylabel(\"Frequency\")\n",
        "plt.xticks(range(1, 11))\n",
        "plt.grid(axis='y', linestyle='--', alpha=0.7)\n",
        "plt.show()\n"
      ],
      "metadata": {
        "colab": {
          "base_uri": "https://localhost:8080/",
          "height": 487
        },
        "id": "AiLGySMUXykE",
        "outputId": "29089dc0-9983-444a-d7fa-b31e3a905ff4"
      },
      "execution_count": 10,
      "outputs": [
        {
          "output_type": "display_data",
          "data": {
            "text/plain": [
              "<Figure size 800x500 with 1 Axes>"
            ],
            "image/png": "[encoded data removed]"
          },
          "metadata": {}
        }
      ]
    },
    {
      "cell_type": "markdown",
      "source": [
        "9. Explain which summary statistics and visualizations (e.g. mean, standard\n",
        "deviation, histogram) you'd use\n",
        "\n",
        "-> I would use-\n",
        "\n",
        "Histogram: To see the frequency distribution (e.g., are most ratings around 7-9?).\n",
        "\n",
        "Boxplot: To detect outliers and spread.\n",
        "\n",
        "Bar chart (if categorical): For discrete satisfaction scores (1-10)."
      ],
      "metadata": {
        "id": "P-unu4hTYFCm"
      }
    },
    {
      "cell_type": "markdown",
      "source": [],
      "metadata": {
        "id": "9g0vXqj5YcsZ"
      }
    }
  ]
}