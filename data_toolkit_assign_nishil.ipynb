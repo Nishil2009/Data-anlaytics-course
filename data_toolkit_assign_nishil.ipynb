{
  "nbformat": 4,
  "nbformat_minor": 0,
  "metadata": {
    "colab": {
      "provenance": [],
      "authorship_tag": "ABX9TyMIMT5+8YtYKMBh4anzMbwI",
      "include_colab_link": true
    },
    "kernelspec": {
      "name": "python3",
      "display_name": "Python 3"
    },
    "language_info": {
      "name": "python"
    }
  },
  "cells": [
    {
      "cell_type": "markdown",
      "metadata": {
        "id": "view-in-github",
        "colab_type": "text"
      },
      "source": [
        "<a href=\"https://colab.research.google.com/github/Nishil2009/Data-anlaytics-course/blob/main/data_toolkit_assign_nishil.ipynb\" target=\"_parent\"><img src=\"https://colab.research.google.com/assets/colab-badge.svg\" alt=\"Open In Colab\"/></a>"
      ]
    },
    {
      "cell_type": "code",
      "execution_count": null,
      "metadata": {
        "id": "NA2icZV-cdMr"
      },
      "outputs": [],
      "source": []
    },
    {
      "cell_type": "markdown",
      "source": [
        "1. What is NumPy, and why is it widely used in Python?\n",
        "\n",
        "NumPy (Numerical Python) is a fundamental package for scientific computing in Python. It provides:\n",
        "\n",
        "Fast and memory-efficient arrays (ndarray)\n",
        "\n",
        "Tools for performing vectorized operations\n",
        "\n",
        "Mathematical, logical, and statistical operations\n",
        "\n",
        "Why used: Its speed and support for large, multi-dimensional arrays make it ideal for data analysis, machine learning, and numerical simulations.\n",
        "\n",
        "2. How does broadcasting work in NumPy?\n",
        "\n",
        "Broadcasting allows NumPy to perform operations on arrays of different shapes by automatically expanding them to be compatible.\n",
        "Example:\n",
        "a = np.array([1, 2, 3])\n",
        "b = 2\n",
        "a + b  # [3, 4, 5]\n",
        "\n",
        "3. What is a Pandas DataFrame?\n",
        "\n",
        "A DataFrame is a 2D, labeled, tabular data structure (like a table in Excel) with rows and columns. It's the core structure in Pandas for handling structured data.\n",
        "\n",
        "4. Explain the use of the groupby() method in Pandas.\n",
        "\n",
        "groupby() is used to split data into groups, apply a function (like mean, sum), and combine the results.\n",
        "Example:\n",
        "df.groupby('department')['salary'].mean()\n",
        "\n",
        "5. Why is Seaborn preferred for statistical visualizations?\n",
        "\n",
        "Seaborn is built on top of Matplotlib and simplifies creating attractive and informative statistical graphics like boxplots, heatmaps, and violin plots with minimal code.\n",
        "\n",
        "6. Differences between NumPy arrays and Python lists:\n",
        "\n",
        "7. What is a heatmap, and when should it be used?\n",
        "\n",
        "A heatmap is a graphical representation of data using colors to show values. It's used to visualize correlation matrices, confusion matrices, and density of data.\n",
        "\n",
        "8. What does the term “vectorized operation” mean in NumPy?\n",
        "\n",
        "Vectorized operations allow you to apply operations on entire arrays without explicit loops, making the code faster and cleaner.\n",
        "\n",
        "9. How does Matplotlib differ from Plotly?\n",
        "\n",
        "10. Significance of hierarchical indexing in Pandas:\n",
        "\n",
        "Hierarchical indexing allows multiple levels of indexing on rows or columns (MultiIndex), enabling complex data representations like pivoted or panel data.\n",
        "\n",
        "11. Role of Seaborn's pairplot() function:\n",
        "\n",
        "pairplot() plots pairwise relationships in a dataset. Useful for exploring correlations and distributions across multiple variables.\n",
        "\n",
        "12. Purpose of the describe() function in Pandas:\n",
        "\n",
        "describe() provides summary statistics (mean, std, min, max, quartiles) for numeric columns, helping in quick data overview.\n",
        "\n",
        "13. Why is handling missing data important in Pandas?\n",
        "\n",
        "Missing data can skew analysis and cause errors. Handling it ensures:\n",
        "\n",
        "Accurate statistics\n",
        "\n",
        "Reliable models\n",
        "\n",
        "Clean visualizations\n",
        "\n",
        "14. Benefits of using Plotly for data visualization:\n",
        "\n",
        "Interactive plots (zoom, pan, hover)\n",
        "\n",
        "Dashboards and web integration\n",
        "\n",
        "Supports complex visualizations easily (3D, maps)\n",
        "\n",
        "15. How does NumPy handle multidimensional arrays?\n",
        "\n",
        "NumPy arrays (ndarrays) can have any number of dimensions (e.g., 2D for matrices, 3D for tensors). It provides methods for reshaping, slicing, and broadcasting over these dimensions.\n",
        "\n",
        "\n",
        "\n"
      ],
      "metadata": {
        "id": "0sKnOSrKceBE"
      }
    }
  ]
}