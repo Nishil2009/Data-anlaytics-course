{
  "nbformat": 4,
  "nbformat_minor": 0,
  "metadata": {
    "colab": {
      "provenance": [],
      "authorship_tag": "ABX9TyNbdBr4ZeODJkyGsqERFxXZ",
      "include_colab_link": true
    },
    "kernelspec": {
      "name": "python3",
      "display_name": "Python 3"
    },
    "language_info": {
      "name": "python"
    }
  },
  "cells": [
    {
      "cell_type": "markdown",
      "metadata": {
        "id": "view-in-github",
        "colab_type": "text"
      },
      "source": [
        "<a href=\"https://colab.research.google.com/github/Nishil2009/Data-anlaytics-course/blob/main/Logisticsregressionassign.ipynb\" target=\"_parent\"><img src=\"https://colab.research.google.com/assets/colab-badge.svg\" alt=\"Open In Colab\"/></a>"
      ]
    },
    {
      "cell_type": "markdown",
      "source": [
        "1. What is Logistic Regression, and how does it differ from Linear Regression?\n",
        "\n",
        "-> Logistic Regression is a supervised learning algorithm used for classification problems, where the target variable is categorical (e.g., yes/no, spam/ham).\n",
        "\n",
        "-It predicts the probability that an observation belongs to a particular class, using the logistic (sigmoid) function to map values between 0 and 1.\n",
        "\n",
        "Difference from Linear Regression:\n",
        "\n",
        "-Linear Regression predicts a continuous outcome (e.g., predicting house prices).\n",
        "\n",
        "-Logistic Regression predicts probabilities for classification (e.g., will the customer buy or not).\n",
        "\n",
        "-Linear Regression uses least squares loss, while Logistic Regression uses log-likelihood loss.\n",
        "\n",
        "2. Explain the role of the Sigmoid function in Logistic Regression\n",
        "\n",
        "The Sigmoid function is:\n",
        "\n",
        "sigma(z) = 1 / (1 + e^(-z))\n",
        "\n",
        "It converts the linear combination of features (\n",
        "z =wTx+b) into a probability between 0 and 1.\n",
        "\n",
        "Decision Rule:\n",
        "\n",
        "If probability ≥ 0.5 → Class 1\n",
        "\n",
        "If probability < 0.5 → Class 0\n",
        "\n",
        "Thus, sigmoid makes logistic regression suitable for binary classification.\n",
        "\n",
        "3. What is Regularization in Logistic Regression and why is it needed?\n",
        "\n",
        "-> Regularization adds a penalty to the loss function to prevent overfitting.\n",
        "\n",
        "Types:\n",
        "\n",
        "L1 (Lasso) → Encourages sparsity (some coefficients become 0).\n",
        "\n",
        "L2 (Ridge) → Shrinks coefficients but keeps all features.\n",
        "\n",
        "Needed because:\n",
        "\n",
        "-Helps prevent overfitting on noisy data.\n",
        "\n",
        "-Improves generalization on unseen test data.\n",
        "\n",
        "4. Common Evaluation Metrics for Classification Models\n",
        "\n",
        "Accuracy - percentage of correct predictions.\n",
        "\n",
        "Precision - how many predicted positives are actually positive.\n",
        "\n",
        "Recall (Sensitivity) - how many actual positives are correctly predicted.\n",
        "\n",
        "F1-Score - harmonic mean of Precision & Recall, balances false positives/negatives.\n",
        "\n",
        "ROC-AUC - measures model's ability to distinguish between classes.\n",
        "\n",
        "Also, Thing to be noted is that in imbalanced datasets, accuracy alone is misleading → Precision, Recall, and AUC are more reliable.\n",
        "\n"
      ],
      "metadata": {
        "id": "kaI_iEundPLi"
      }
    },
    {
      "cell_type": "code",
      "source": [
        "#5.Train a Logistic Regression model, and print accuracy.\n",
        "\n",
        "import pandas as pd\n",
        "from sklearn.datasets import load_iris\n",
        "from sklearn.model_selection import train_test_split\n",
        "from sklearn.linear_model import LogisticRegression\n",
        "from sklearn.metrics import accuracy_score\n",
        "\n",
        "# Load dataset\n",
        "iris = load_iris()\n",
        "df = pd.DataFrame(iris.data, columns=iris.feature_names)\n",
        "df['target'] = iris.target\n",
        "\n",
        "# Train-Test split\n",
        "X_train, X_test, y_train, y_test = train_test_split(\n",
        "    df.iloc[:, :-1], df['target'], test_size=0.3, random_state=42)\n",
        "\n",
        "# Logistic Regression\n",
        "model = LogisticRegression(max_iter=200)\n",
        "model.fit(X_train, y_train)\n",
        "\n",
        "# Predictions & Accuracy\n",
        "y_pred = model.predict(X_test)\n",
        "print(\"Accuracy:\", accuracy_score(y_test, y_pred))\n",
        "\n",
        "\n"
      ],
      "metadata": {
        "colab": {
          "base_uri": "https://localhost:8080/"
        },
        "id": "3gW5zqNEfC74",
        "outputId": "a4f9b824-e7cf-404a-a9b4-603aa42a6bb9"
      },
      "execution_count": 2,
      "outputs": [
        {
          "output_type": "stream",
          "name": "stdout",
          "text": [
            "Accuracy: 1.0\n"
          ]
        }
      ]
    },
    {
      "cell_type": "code",
      "source": [
        "#6.Logistic Regression with L2 Regularization (Ridge)\n",
        "\n",
        "from sklearn.datasets import load_breast_cancer\n",
        "\n",
        "# Load dataset\n",
        "cancer = load_breast_cancer()\n",
        "X_train, X_test, y_train, y_test = train_test_split(\n",
        "    cancer.data, cancer.target, test_size=0.3, random_state=42)\n",
        "\n",
        "# Logistic Regression with L2 Regularization\n",
        "model = LogisticRegression(penalty='l2', C=1.0, solver='lbfgs', max_iter=200)\n",
        "model.fit(X_train, y_train)\n",
        "\n",
        "print(\"Model Coefficients:\", model.coef_)\n",
        "print(\"Accuracy:\", model.score(X_test, y_test))"
      ],
      "metadata": {
        "colab": {
          "base_uri": "https://localhost:8080/"
        },
        "id": "C2ju-n4JfkMU",
        "outputId": "44f3238f-760c-4841-9820-6c24e705895f"
      },
      "execution_count": 3,
      "outputs": [
        {
          "output_type": "stream",
          "name": "stdout",
          "text": [
            "Model Coefficients: [[ 2.09913415  0.1673581  -0.11876587 -0.00399211 -0.11964349 -0.41157283\n",
            "  -0.62086473 -0.31616778 -0.18731917 -0.03068573 -0.04091334  1.55447102\n",
            "   0.22882622 -0.12126295 -0.01220061 -0.04231814 -0.07360856 -0.03703756\n",
            "  -0.04597635 -0.0027586   1.20265811 -0.40104191 -0.08808799 -0.02043432\n",
            "  -0.22211505 -1.20053841 -1.55500712 -0.57085173 -0.67900347 -0.11799646]]\n",
            "Accuracy: 0.9649122807017544\n"
          ]
        },
        {
          "output_type": "stream",
          "name": "stderr",
          "text": [
            "/usr/local/lib/python3.12/dist-packages/sklearn/linear_model/_logistic.py:465: ConvergenceWarning: lbfgs failed to converge (status=1):\n",
            "STOP: TOTAL NO. OF ITERATIONS REACHED LIMIT.\n",
            "\n",
            "Increase the number of iterations (max_iter) or scale the data as shown in:\n",
            "    https://scikit-learn.org/stable/modules/preprocessing.html\n",
            "Please also refer to the documentation for alternative solver options:\n",
            "    https://scikit-learn.org/stable/modules/linear_model.html#logistic-regression\n",
            "  n_iter_i = _check_optimize_result(\n"
          ]
        }
      ]
    },
    {
      "cell_type": "code",
      "source": [
        "#7.Logistic Regression for Multiclass (One-vs-Rest)\n",
        "\n",
        "from sklearn.metrics import classification_report\n",
        "\n",
        "# Using Iris dataset again\n",
        "iris = load_iris()\n",
        "X_train, X_test, y_train, y_test = train_test_split(\n",
        "    iris.data, iris.target, test_size=0.3, random_state=42)\n",
        "\n",
        "# Multiclass Logistic Regression\n",
        "model = LogisticRegression(multi_class='ovr', max_iter=200)\n",
        "model.fit(X_train, y_train)\n",
        "\n",
        "y_pred = model.predict(X_test)\n",
        "print(\"Classification Report:\\n\", classification_report(y_test, y_pred))"
      ],
      "metadata": {
        "colab": {
          "base_uri": "https://localhost:8080/"
        },
        "id": "YTDB_9I8f09C",
        "outputId": "6e82d3f3-da50-49c0-8604-a039bd3e28f8"
      },
      "execution_count": 4,
      "outputs": [
        {
          "output_type": "stream",
          "name": "stdout",
          "text": [
            "Classification Report:\n",
            "               precision    recall  f1-score   support\n",
            "\n",
            "           0       1.00      1.00      1.00        19\n",
            "           1       1.00      0.85      0.92        13\n",
            "           2       0.87      1.00      0.93        13\n",
            "\n",
            "    accuracy                           0.96        45\n",
            "   macro avg       0.96      0.95      0.95        45\n",
            "weighted avg       0.96      0.96      0.96        45\n",
            "\n"
          ]
        },
        {
          "output_type": "stream",
          "name": "stderr",
          "text": [
            "/usr/local/lib/python3.12/dist-packages/sklearn/linear_model/_logistic.py:1256: FutureWarning: 'multi_class' was deprecated in version 1.5 and will be removed in 1.7. Use OneVsRestClassifier(LogisticRegression(..)) instead. Leave it to its default value to avoid this warning.\n",
            "  warnings.warn(\n"
          ]
        }
      ]
    },
    {
      "cell_type": "code",
      "source": [
        "#8. GridSearchCV for Hyperparameter Tuning\n",
        "\n",
        "from sklearn.model_selection import GridSearchCV\n",
        "\n",
        "# Grid search parameters\n",
        "param_grid = {\n",
        "    'C': [0.01, 0.1, 1, 10],\n",
        "    'penalty': ['l1', 'l2'],\n",
        "    'solver': ['liblinear']  # supports L1\n",
        "}\n",
        "\n",
        "grid = GridSearchCV(LogisticRegression(max_iter=200), param_grid, cv=5, scoring='accuracy')\n",
        "grid.fit(X_train, y_train)\n",
        "\n",
        "print(\"Best Parameters:\", grid.best_params_)\n",
        "print(\"Best Validation Accuracy:\", grid.best_score_)"
      ],
      "metadata": {
        "colab": {
          "base_uri": "https://localhost:8080/"
        },
        "id": "nGK7G3Bwf6Qj",
        "outputId": "d8ee1906-a87e-4e16-e98b-76b31c047f3f"
      },
      "execution_count": 5,
      "outputs": [
        {
          "output_type": "stream",
          "name": "stdout",
          "text": [
            "Best Parameters: {'C': 10, 'penalty': 'l2', 'solver': 'liblinear'}\n",
            "Best Validation Accuracy: 0.9523809523809523\n"
          ]
        }
      ]
    },
    {
      "cell_type": "code",
      "source": [
        "#9.Compare Accuracy With & Without Feature Scaling\n",
        "\n",
        "from sklearn.preprocessing import StandardScaler\n",
        "\n",
        "# Without scaling\n",
        "model = LogisticRegression(max_iter=200)\n",
        "model.fit(X_train, y_train)\n",
        "print(\"Accuracy without scaling:\", model.score(X_test, y_test))\n",
        "\n",
        "# With scaling\n",
        "scaler = StandardScaler()\n",
        "X_train_scaled = scaler.fit_transform(X_train)\n",
        "X_test_scaled = scaler.transform(X_test)\n",
        "\n",
        "model_scaled = LogisticRegression(max_iter=200)\n",
        "model_scaled.fit(X_train_scaled, y_train)\n",
        "print(\"Accuracy with scaling:\", model_scaled.score(X_test_scaled, y_test))"
      ],
      "metadata": {
        "colab": {
          "base_uri": "https://localhost:8080/"
        },
        "id": "i05KjXe1f_Fa",
        "outputId": "a8b5a422-b766-4798-8781-d73df9722bd5"
      },
      "execution_count": 6,
      "outputs": [
        {
          "output_type": "stream",
          "name": "stdout",
          "text": [
            "Accuracy without scaling: 1.0\n",
            "Accuracy with scaling: 1.0\n"
          ]
        }
      ]
    },
    {
      "cell_type": "markdown",
      "source": [
        "10. Real-world Case Study: Predicting Marketing Campaign Response (Imbalanced Data)\n",
        "\n",
        "*Business Challenge*\n",
        "-Only 5% customers respond, meaning dataset is highly imbalanced.\n",
        "\n",
        "*Approach*\n",
        "\n",
        "Data Handling & Preprocessing:\n",
        "\n",
        "-Clean missing values, encode categorical features.\n",
        "\n",
        "-Standardize numerical features for logistic regression.\n",
        "\n",
        "Handling Imbalance:\n",
        "\n",
        "-Use SMOTE (Synthetic Minority Oversampling Technique) or\n",
        "\n",
        "-Apply class_weight='balanced' in Logistic Regression.\n",
        "\n",
        "Feature Scaling:\n",
        "\n",
        "-StandardScaler to normalize features.\n",
        "\n",
        "Model Training:\n",
        "\n",
        "-Logistic Regression with regularization (L1/L2).\n",
        "\n",
        "-Hyperparameter tuning with GridSearchCV (parameters: C, penalty).\n",
        "\n",
        "Evaluation Metrics:\n",
        "\n",
        "-Accuracy is misleading.\n",
        "\n",
        "-Use Precision, Recall, F1-score, ROC-AUC.\n",
        "\n",
        "-Focus on Recall (don’t miss responders) or Precision (don’t waste resources on non-responders), depending on business goal.\n",
        "\n",
        "Deployment:\n",
        "\n",
        "-Final model should output probability scores.\n",
        "\n",
        "-Business team can set threshold (e.g., target top 10% most likely to respond)."
      ],
      "metadata": {
        "id": "MWuNWm0bga3c"
      }
    }
  ]
}