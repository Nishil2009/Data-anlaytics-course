{
  "cells": [
    {
      "cell_type": "markdown",
      "metadata": {
        "id": "view-in-github",
        "colab_type": "text"
      },
      "source": [
        "<a href=\"https://colab.research.google.com/github/Nishil2009/Data-anlaytics-course/blob/main/Restful_API_%26_Flask.ipynb\" target=\"_parent\"><img src=\"https://colab.research.google.com/assets/colab-badge.svg\" alt=\"Open In Colab\"/></a>"
      ]
    },
    {
      "cell_type": "markdown",
      "metadata": {
        "id": "B9AofCqY5ZZv"
      },
      "source": [
        "1. What is a RESTful API?\n",
        "\n",
        "-> A RESTful API is an application programming interface that follows the principles of REST (Representational State Transfer), using HTTP methods (GET, POST, PUT, DELETE) to perform operations on resources, typically represented in JSON.\n",
        "\n",
        "2. Explain the concept of API specification.\n",
        "\n",
        "-> An API specification is a formal description of how an API works — including endpoints, request/response formats, authentication methods, and status codes. It serves as a contract between frontend and backend developers.\n",
        "\n",
        "3. What is Flask, and why is it popular for building APIs?\n",
        "\n",
        "-> Flask is a lightweight Python web framework. It's popular because it is simple, flexible, and easy to integrate with extensions like Flask-RESTful or Flask-SQLAlchemy for building APIs.\n",
        "\n",
        "4. What is routing in Flask?\n",
        "\n",
        "-> Routing in Flask connects URLs (routes) to Python functions. When a specific URL is accessed, the corresponding function (view) is triggered.\n",
        "\n"
      ]
    },
    {
      "cell_type": "code",
      "execution_count": null,
      "metadata": {
        "id": "ZfSr2uHl56xk"
      },
      "outputs": [],
      "source": [
        "#5. How do you create a simple Flask application?\n",
        "from flask import Flask\n",
        "app = Flask(__name__)\n",
        "\n",
        "@app.route('/')\n",
        "def home():\n",
        "    return \"Hello, World!\"\n",
        "\n",
        "if __name__ == '__main__':\n",
        "    app.run(debug=True)"
      ]
    },
    {
      "cell_type": "markdown",
      "metadata": {
        "id": "FNn-wGQg6CIH"
      },
      "source": [
        "6. What are HTTP methods used in RESTful APIs?\n",
        "\n",
        "GET: Retrieve data\n",
        "\n",
        "POST: Create data\n",
        "\n",
        "PUT: Update data\n",
        "\n",
        "DELETE: Remove data\n",
        "\n",
        "PATCH: Partial update\n",
        "\n",
        "7. What is the purpose of the @app.route() decorator in Flask?\n",
        "\n",
        "-> @app.route() maps a URL path to a view function. It tells Flask what to execute when a specific route is visited.\n",
        "\n",
        "8. What is the difference between GET and POST HTTP methods?\n",
        "\n",
        "GET: Retrieves data; parameters sent in URL\n",
        "\n",
        "POST: Sends data to the server (e.g., form data); parameters sent in the request body\n",
        "\n",
        "\n",
        "\n"
      ]
    },
    {
      "cell_type": "code",
      "execution_count": null,
      "metadata": {
        "collapsed": true,
        "id": "3Scoa12d6Yd1"
      },
      "outputs": [],
      "source": [
        "#9. How do you handle errors in Flask APIs?\n",
        "@app.errorhandler(404)\n",
        "def not_found(error):\n",
        "    return jsonify({'error': 'Not found'}), 404\n",
        "\n",
        "#10. How do you connect Flask to a SQL database?\n",
        "from flask_sqlalchemy import SQLAlchemy\n",
        "\n",
        "app.config['SQLALCHEMY_DATABASE_URI'] = 'sqlite:///mydb.db'\n",
        "db = SQLAlchemy(app)"
      ]
    },
    {
      "cell_type": "markdown",
      "metadata": {
        "id": "AQdnLLR36yPh"
      },
      "source": [
        "11. What is the role of Flask-SQLAlchemy?\n",
        "\n",
        "-> Flask-SQLAlchemy is an extension that integrates SQLAlchemy with Flask, making it easier to work with databases using ORM (Object Relational Mapping).\n",
        "\n",
        "12. What are Flask blueprints, and how are they useful?\n",
        "\n",
        "-> Blueprints allow you to organize your Flask app into reusable components or modules, making large apps easier to manage and scale.\n",
        "\n"
      ]
    },
    {
      "cell_type": "code",
      "execution_count": null,
      "metadata": {
        "id": "2LRB-ZLw7BuQ"
      },
      "outputs": [],
      "source": [
        "#13. What is the purpose of Flask's request object?\n",
        "from flask import request\n",
        "data = request.get_json()\n",
        "\n",
        "#14. How do you create a RESTful API endpoint using Flask?\n",
        "@app.route('/api/data', methods=['GET'])\n",
        "def get_data():\n",
        "    return jsonify({\"message\": \"This is a RESTful endpoint\"})"
      ]
    },
    {
      "cell_type": "markdown",
      "metadata": {
        "id": "-7Ew1Hjq7QOJ"
      },
      "source": [
        "15. What is the purpose of Flask's jsonify() function?\n",
        "\n",
        "-> jsonify() converts Python dictionaries into JSON responses with the correct MIME type (application/json).\n",
        "\n",
        "16. Explain Flask’s url_for() function.\n",
        "\n",
        "-> url_for() dynamically builds URLs for a given function name, which is useful for redirecting and avoiding hard-coded URLs.\n",
        "\n",
        "17. How does Flask handle static files (CSS, JavaScript, etc.)?\n",
        "\n",
        "Flask serves static files from the /static folder by default. You can reference them in HTML using:\n",
        "\n",
        "18. What is an API specification, and how does it help in building a Flask API?\n",
        "\n",
        "-> It defines what endpoints exist, what data is expected, and what responses are returned. Tools like Swagger or Postman use specifications (like OpenAPI) to document and test APIs.\n",
        "\n",
        "19. What are HTTP status codes, and why are they important in a Flask API?\n",
        "\n",
        "-> They indicate the result of a request (e.g., 200 OK, 404 Not Found, 500 Server Error). Proper use helps clients understand responses clearly.\n",
        "\n",
        "\n",
        "\n"
      ]
    },
    {
      "cell_type": "code",
      "execution_count": null,
      "metadata": {
        "id": "gCTlihAk7w_J"
      },
      "outputs": [],
      "source": [
        "#20. How do you handle POST requests in Flask?\n",
        "@app.route('/submit', methods=['POST'])\n",
        "def submit():\n",
        "    data = request.get_json()\n",
        "    return jsonify({\"received\": data}), 201"
      ]
    },
    {
      "cell_type": "markdown",
      "metadata": {
        "id": "D-wgSkIz7zxl"
      },
      "source": [
        "21. How would you secure a Flask API?\n",
        "\n",
        "Use authentication (JWT, API keys)\n",
        "\n",
        "Use HTTPS\n",
        "\n",
        "Validate input\n",
        "\n",
        "Handle errors properly\n",
        "\n",
        "Limit request rates (rate limiting)\n",
        "\n",
        "22. What is the significance of the Flask-RESTful extension?\n",
        "\n",
        "-> Flask-RESTful simplifies building REST APIs by providing tools for routing, request parsing, and formatting responses.\n",
        "\n",
        "23. What is the role of Flask’s session object?\n",
        "\n",
        "-> session stores user data across requests (e.g., login status), using signed cookies.\n",
        "\n",
        "from flask import session\n",
        "session['username'] = 'nishil'"
      ]
    },
    {
      "cell_type": "markdown",
      "metadata": {
        "id": "OOEOje868EmZ"
      },
      "source": [
        "                                        \n",
        "                                      PRACTICAL"
      ]
    },
    {
      "cell_type": "code",
      "source": [
        "#1. How to Create a Basic Flask Application?\n",
        "\n",
        "from flask import Flask\n",
        "from flask_ngrok import run_with_ngrok\n",
        "\n",
        "app = Flask(__name__)\n",
        "run_with_ngrok(app)\n",
        "\n",
        "@app.route('/')\n",
        "def home():\n",
        "    return 'Hello, Flask from Colab!'\n",
        "\n",
        "app.run()\n",
        "\n",
        "#2. How do you serve static files like images or CSS in Flask?\n",
        "\n",
        "from flask import send_from_directory\n",
        "\n",
        "@app.route('/static/<path:filename>')\n",
        "def static_files(filename):\n",
        "    return send_from_directory('static', filename)\n",
        "\n",
        "#3. How do you define different routes with different HTTP methods in Flask?\n",
        "\n",
        "@app.route('/submit', methods=['GET', 'POST'])\n",
        "def submit():\n",
        "    if flask.request.method == 'POST':\n",
        "        return 'You used POST method'\n",
        "    else:\n",
        "        return 'You used GET method'\n",
        "\n",
        "#4. How do you render HTML templates in Flask?\n",
        "\n",
        "from flask import render_template_string\n",
        "\n",
        "@app.route('/html')\n",
        "def html_page():\n",
        "    return render_template_string('<h1>Hello, {{ name }}!</h1>', name='Colab Use\n",
        "    r')\n",
        "\n",
        "#5. How can you generate URLs for routes in Flask using url_for?\n",
        "\n",
        "from flask import url_for\n",
        "\n",
        "@app.route('/show-url')\n",
        "def show_url():\n",
        "    return url_for('html_page')\n",
        "\n",
        "#6. How do you handle forms in Flask?\n",
        "\n",
        "@app.route('/form', methods=['GET', 'POST'])\n",
        "def form():\n",
        "    form_html = '''\n",
        "    <form method=\"POST\">\n",
        "        <input name=\"username\">\n",
        "        <input type=\"submit\">\n",
        "    </form>\n",
        "    '''\n",
        "    if flask.request.method == 'POST':\n",
        "        name = flask.request.form['username']\n",
        "        return f'Hello, {name}!'\n",
        "    return form_html\n",
        "\n",
        "#7. How can you validate form data in Flask?\n",
        "\n",
        "@app.route('/validate', methods=['POST', 'GET'])\n",
        "def validate():\n",
        "    if flask.request.method == 'POST':\n",
        "        name = flask.request.form.get('name')\n",
        "        if not name:\n",
        "            return 'Name is required'\n",
        "        return f'Valid name: {name}'\n",
        "    return '''\n",
        "    <form method=\"post\">\n",
        "        <input name=\"name\">\n",
        "        <input type=\"submit\">\n",
        "    </form>\n",
        "    '''\n",
        "\n",
        "#8. How do you manage sessions in Flask?\n",
        "\n",
        "app.secret_key = 'secret'\n",
        "\n",
        "@app.route('/set-session')\n",
        "def set_session():\n",
        "    flask.session['user'] = 'ColabUser'\n",
        "    return 'Session set!'\n",
        "\n",
        "@app.route('/get-session')\n",
        "def get_session():\n",
        "    return flask.session.get('user', 'No session found')\n",
        "\n",
        "#9. How do you redirect to a different route in Flask?\n",
        "\n",
        "from flask import redirect\n",
        "\n",
        "@app.route('/go-home')\n",
        "def go_home():\n",
        "    return redirect('/')\n",
        "\n",
        "#10. How do you handle errors in Flask (e.g., 404)?\n",
        "\n",
        "@app.errorhandler(404)\n",
        "def page_not_found(e):\n",
        "    return 'Custom 404 Page Not Found', 404\n",
        "\n",
        "#11. How do you structure a Flask app using Blueprints?\n",
        "\n",
        "from flask import Blueprint\n",
        "\n",
        "simple_page = Blueprint('simple_page', __name__)\n",
        "\n",
        "@simple_page.route('/blue')\n",
        "def blue_route():\n",
        "    return 'This is a Blueprint route'\n",
        "\n",
        "app.register_blueprint(simple_page)\n",
        "\n",
        "\n",
        "#12. How do you define a custom Jinja filter in Flask?\n",
        "\n",
        "@app.template_filter('reverse')\n",
        "def reverse_filter(s):\n",
        "    return s[::-1]\n",
        "\n",
        "@app.route('/custom-filter')\n",
        "def custom_filter():\n",
        "    return render_template_string('{{ \"hello\"|reverse }}')\n",
        "\n",
        "#13. How can you redirect with query parameters in Flask?\n",
        "\n",
        "@app.route('/with-query')\n",
        "def with_query():\n",
        "    return redirect(url_for('get_query', msg='hello'))\n",
        "\n",
        "@app.route('/get-query')\n",
        "def get_query():\n",
        "    return flask.request.args.get('msg', 'No message')\n",
        "\n",
        "\n",
        "#14. How do you return JSON responses in Flask4\n",
        "\n",
        "from flask import jsonify\n",
        "\n",
        "@app.route('/json')\n",
        "def json_response():\n",
        "    return jsonify({'name': 'Colab User', 'status': 'active'})\n",
        "\n",
        "#15. How do you capture URL parameters in Flask?\n",
        "\n",
        "@app.route('/user/<username>')\n",
        "def show_user(username):\n",
        "    return f'Profile page of {username}'\n",
        "\n"
      ],
      "metadata": {
        "id": "sfQluw2mZJ5x"
      },
      "execution_count": null,
      "outputs": []
    }
  ],
  "metadata": {
    "colab": {
      "provenance": [],
      "authorship_tag": "ABX9TyNMRP7GFs8BVQge6ZJD9uGf",
      "include_colab_link": true
    },
    "kernelspec": {
      "display_name": "Python 3",
      "name": "python3"
    },
    "language_info": {
      "name": "python"
    }
  },
  "nbformat": 4,
  "nbformat_minor": 0
}