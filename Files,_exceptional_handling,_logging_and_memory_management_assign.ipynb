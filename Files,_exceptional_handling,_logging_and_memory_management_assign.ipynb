{
  "nbformat": 4,
  "nbformat_minor": 0,
  "metadata": {
    "colab": {
      "provenance": [],
      "authorship_tag": "ABX9TyOH6hv9YWaEpycuj9qectQP",
      "include_colab_link": true
    },
    "kernelspec": {
      "name": "python3",
      "display_name": "Python 3"
    },
    "language_info": {
      "name": "python"
    }
  },
  "cells": [
    {
      "cell_type": "markdown",
      "metadata": {
        "id": "view-in-github",
        "colab_type": "text"
      },
      "source": [
        "<a href=\"https://colab.research.google.com/github/Nishil2009/Data-anlaytics-course/blob/main/Files%2C_exceptional_handling%2C_logging_and_memory_management_assign.ipynb\" target=\"_parent\"><img src=\"https://colab.research.google.com/assets/colab-badge.svg\" alt=\"Open In Colab\"/></a>"
      ]
    },
    {
      "cell_type": "markdown",
      "source": [
        "1. What is the difference between interpreted and compiled languages ?\n",
        "\n",
        "-> Interpreted: Code is executed line-by-line by an interpreter (e.g., Python).\n",
        "\n",
        "   Compiled: Code is translated into machine code before execution (e.g., C++).\n",
        "\n",
        "2. What is exception handling in Python?\n",
        "\n",
        "-> It is a mechanism to catch and handle runtime errors using try, except, else, and finally blocks.\n",
        "\n",
        "3. What is the purpose of the finally block in exception handling ?\n",
        "\n",
        "-> The finally block always executes, regardless of whether an exception occurred, often used for cleanup (e.g., closing files).\n",
        "\n",
        "4. What is logging in Python?\n",
        "-> Logging records events or messages during program execution, useful for debugging or monitoring.\n",
        "\n",
        "5. What is the Significance of the __del__ method ?\n",
        "-> It's a destructor method called when an object is about to be destroyed, useful for cleanup tasks.\n",
        "\n",
        "6. What is the difference between import and from ... import in Python?\n",
        "\n",
        "-> import module: Access with module.name\n",
        "\n",
        "   from module import name: Access directly as name\n",
        "\n",
        "7. How can you handle multiple exceptions in Python?\n",
        "\n",
        "try:\n",
        "    ...\n",
        "except (TypeError, ValueError) as e:\n",
        "    print(e)\n",
        "\n",
        "8. What is the purpose of the with statement when handling files in Python?\n",
        "-> It ensures proper acquisition and release of resources (like auto-closing a file):\n",
        "with open('file.txt') as f:\n",
        "    data = f.read()\n",
        "\n",
        "9. What is the Difference between multithreading and multiprocessing ?\n",
        "\n",
        "Multithreading: Multiple threads within a single process (shared memory).\n",
        "\n",
        "Multiprocessing: Multiple processes with separate memory spaces (better for CPU-bound tasks).    \n",
        "\n",
        "10. What are the advantages of using logging in a program ?\n",
        "\n",
        "Tracks events\n",
        "\n",
        "Helps in debugging\n",
        "\n",
        "Can be saved to files\n",
        "\n",
        "Offers levels like INFO, ERROR\n",
        "\n",
        "11. What is memory management in Python?\n",
        "-> Managed via reference counting and garbage collection for unused memory cleanup.\n",
        "\n",
        "12. What are the basic steps involved in exception handling in Python ?\n",
        "\n",
        "Use try to wrap risky code.\n",
        "\n",
        "Use except to handle exceptions.\n",
        "\n",
        "Optionally use else and finally.\n",
        "\n",
        "13. Why memory management is important ?\n",
        "\n",
        "-> It ensures efficient resource use and prevents memory leaks or crashes.\n",
        "\n",
        "14. What is the role of try and except in exception handling\n",
        "\n",
        "-> try: Code that might raise exceptions.\n",
        "\n",
        "  except: Handles those exceptions gracefully.\n",
        "\n",
        "15. How does Python's garbage collection system work ?\n",
        "\n",
        "-> Uses reference counting and a cyclic garbage collector to clean up unused objects automatically.\n",
        "\n",
        "16. What is the purpose of else in exception handling ?\n",
        "\n",
        "-> Runs only if the try block doesn't raise an exception.\n",
        "\n",
        "17. What are the common logging levels in Python ?\n",
        "\n",
        "DEBUG\n",
        "\n",
        "INFO\n",
        "\n",
        "WARNING\n",
        "\n",
        "ERROR\n",
        "\n",
        "CRITICAL\n",
        "\n",
        "18. Difference: os.fork() vs multiprocessing.\n",
        "\n",
        "os.fork(): Unix-only, low-level process creation.\n",
        "\n",
        "multiprocessing: Cross-platform module that provides better abstraction.\n",
        "\n",
        "19. What is the importance of closing a file in python ?\n",
        "\n",
        "-> Frees system resources and ensures all data is written properly to the file.\n",
        "\n",
        "20. What is the difference between file.read() and file.readline() in Python ?\n",
        "\n",
        "-> read(): Reads the entire file as a string.\n",
        "\n",
        "   readline(): Reads one line at a time.\n",
        "\n",
        "21. What is the logging module in Python used for ?\n",
        "\n",
        "-> Provides a standard way to log messages to files, console, or over networks.\n",
        "\n",
        "22. What is the use of os module in file handling ?\n",
        "\n",
        "-> Allows interacting with the operating system (e.g., os.remove, os.rename, os.path.exists).\n",
        "\n",
        "\n",
        "\n",
        "\n",
        "\n",
        "\n",
        "\n",
        "\n",
        "\n",
        "\n"
      ],
      "metadata": {
        "id": "vPJ-hQDs6rrO"
      }
    },
    {
      "cell_type": "markdown",
      "source": [
        "                                                                  PRACTICAL PART"
      ],
      "metadata": {
        "id": "eB7ngaNmdEjN"
      }
    },
    {
      "cell_type": "markdown",
      "source": [
        "1. How can you open a file for writing in Python and write a string to it ?"
      ],
      "metadata": {
        "id": "5IMtQ8o3dYB-"
      }
    },
    {
      "cell_type": "code",
      "source": [
        "file_path = \"/content/sample_write.txt\"\n",
        "\n",
        "with open(file_path, \"w\") as file:\n",
        "    file.write(\"Hello, this is a sample string written to a file.\")\n",
        "\n",
        "with open(file_path, \"r\") as file:\n",
        "    print(\"File content:\", file.read())\n"
      ],
      "metadata": {
        "colab": {
          "base_uri": "https://localhost:8080/"
        },
        "id": "n6jvu4U5dczZ",
        "outputId": "07a26775-9fa9-4b87-faf1-73edf6024398"
      },
      "execution_count": 14,
      "outputs": [
        {
          "output_type": "stream",
          "name": "stdout",
          "text": [
            "File content: Hello, this is a sample string written to a file.\n"
          ]
        }
      ]
    },
    {
      "cell_type": "markdown",
      "source": [
        "2. Write a Python program to read the contents of a file and print each line ?"
      ],
      "metadata": {
        "id": "oeHBZSVrdjTl"
      }
    },
    {
      "cell_type": "code",
      "source": [
        "# Creating a sample file to read\n",
        "file_path = \"/content/sample_read.txt\"\n",
        "\n",
        "with open(file_path, \"w\") as f:\n",
        "    f.write(\"Line 1\\nLine 2\\nLine 3\")\n",
        "\n",
        "# Now reading the file line by line\n",
        "with open(file_path, \"r\") as f:\n",
        "    for line in f:\n",
        "        print(line.strip())"
      ],
      "metadata": {
        "colab": {
          "base_uri": "https://localhost:8080/"
        },
        "id": "AF31JumDdqod",
        "outputId": "e10d8c79-b4b2-4fdf-e2be-88960d4a2371"
      },
      "execution_count": 15,
      "outputs": [
        {
          "output_type": "stream",
          "name": "stdout",
          "text": [
            "Line 1\n",
            "Line 2\n",
            "Line 3\n"
          ]
        }
      ]
    },
    {
      "cell_type": "markdown",
      "source": [
        "3. How would you handle a case where the file doesn't exist while trying to open it for reading ?"
      ],
      "metadata": {
        "id": "v07cpzQ0ha6B"
      }
    },
    {
      "cell_type": "code",
      "source": [
        "file_path = \"/content/non_existent_file.txt\"\n",
        "\n",
        "try:\n",
        "    with open(file_path, \"r\") as f:\n",
        "        print(f.read())\n",
        "except FileNotFoundError:\n",
        "    print(\"Error: File not found.\")"
      ],
      "metadata": {
        "colab": {
          "base_uri": "https://localhost:8080/"
        },
        "id": "HL-YEmnyhi44",
        "outputId": "3b8a40e4-c3c2-45e4-a391-a234b9877550"
      },
      "execution_count": 16,
      "outputs": [
        {
          "output_type": "stream",
          "name": "stdout",
          "text": [
            "Error: File not found.\n"
          ]
        }
      ]
    },
    {
      "cell_type": "markdown",
      "source": [
        "4. Write a Python script that reads from one file and writes its content to another file"
      ],
      "metadata": {
        "id": "d1jAUL6KhtMg"
      }
    },
    {
      "cell_type": "code",
      "source": [
        "# Create a source file first\n",
        "source_path = \"/content/source.txt\"\n",
        "target_path = \"/content/target.txt\"\n",
        "\n",
        "with open(source_path, \"w\") as src:\n",
        "    src.write(\"Content to copy to another file.\")\n",
        "\n",
        "# Now copy the content\n",
        "with open(source_path, \"r\") as src, open(target_path, \"w\") as tgt:\n",
        "    for line in src:\n",
        "        tgt.write(line)\n",
        "\n",
        "# Confirm by reading the target file\n",
        "with open(target_path, \"r\") as tgt:\n",
        "    print(\"Copied content:\", tgt.read())"
      ],
      "metadata": {
        "colab": {
          "base_uri": "https://localhost:8080/"
        },
        "id": "u1MlR14uhx3J",
        "outputId": "dfccb40b-db3a-4264-871e-12925f934fd4"
      },
      "execution_count": 17,
      "outputs": [
        {
          "output_type": "stream",
          "name": "stdout",
          "text": [
            "Copied content: Content to copy to another file.\n"
          ]
        }
      ]
    },
    {
      "cell_type": "markdown",
      "source": [
        "5. How would you catch and handle division by zero error in Python"
      ],
      "metadata": {
        "id": "rH9RIML7h5qv"
      }
    },
    {
      "cell_type": "code",
      "source": [
        "try:\n",
        "    num = 10\n",
        "    denom = 0\n",
        "    result = num / denom\n",
        "except ZeroDivisionError:\n",
        "    print(\"Error: Division by zero is not allowed.\")\n",
        "else:\n",
        "    print(\"Result:\", result)"
      ],
      "metadata": {
        "colab": {
          "base_uri": "https://localhost:8080/"
        },
        "id": "Y28w4VSYh8eU",
        "outputId": "c0c24bdd-e2dc-46dd-d366-769669725e65"
      },
      "execution_count": 18,
      "outputs": [
        {
          "output_type": "stream",
          "name": "stdout",
          "text": [
            "Error: Division by zero is not allowed.\n"
          ]
        }
      ]
    },
    {
      "cell_type": "markdown",
      "source": [
        "6. Write a Python program that logs an error message to a log file when a division by zero exception occurs"
      ],
      "metadata": {
        "id": "P5vMvVXvh_EX"
      }
    },
    {
      "cell_type": "code",
      "source": [
        "import logging\n",
        "\n",
        "logging.basicConfig(filename='error_log.log', level=logging.ERROR)\n",
        "\n",
        "try:\n",
        "    result = 10 / 0\n",
        "except ZeroDivisionError as e:\n",
        "    logging.error(f\"Division by zero error occurred: {e}\")\n",
        "    print(\"Logged division by zero error.\")"
      ],
      "metadata": {
        "colab": {
          "base_uri": "https://localhost:8080/"
        },
        "id": "f44CW6mmitft",
        "outputId": "17511a4c-d195-4b1c-e0d6-b2ffb02312b9"
      },
      "execution_count": 19,
      "outputs": [
        {
          "output_type": "stream",
          "name": "stderr",
          "text": [
            "ERROR:root:Division by zero error occurred: division by zero\n"
          ]
        },
        {
          "output_type": "stream",
          "name": "stdout",
          "text": [
            "Logged division by zero error.\n"
          ]
        }
      ]
    },
    {
      "cell_type": "markdown",
      "source": [
        "7. How do you log information at different levels (INFO, ERROR, WARNING) in Python using the logging module"
      ],
      "metadata": {
        "id": "3HsQINnuiu12"
      }
    },
    {
      "cell_type": "code",
      "source": [
        "logging.basicConfig(filename='app.log', level=logging.DEBUG)\n",
        "\n",
        "logging.info(\"This is an info message.\")\n",
        "logging.warning(\"This is a warning.\")\n",
        "logging.error(\"This is an error message.\")\n",
        "print(\"Logged messages at INFO, WARNING, and ERROR levels.\")"
      ],
      "metadata": {
        "colab": {
          "base_uri": "https://localhost:8080/"
        },
        "id": "SCa9zodZi0Je",
        "outputId": "5b74b76b-112a-4df2-e150-7dea56bed397"
      },
      "execution_count": 20,
      "outputs": [
        {
          "output_type": "stream",
          "name": "stderr",
          "text": [
            "WARNING:root:This is a warning.\n",
            "ERROR:root:This is an error message.\n"
          ]
        },
        {
          "output_type": "stream",
          "name": "stdout",
          "text": [
            "Logged messages at INFO, WARNING, and ERROR levels.\n"
          ]
        }
      ]
    },
    {
      "cell_type": "markdown",
      "source": [
        "8. Write a program to handle a file opening error using exception handling"
      ],
      "metadata": {
        "id": "dYJ8SdUgi5Gn"
      }
    },
    {
      "cell_type": "code",
      "source": [
        "try:\n",
        "    with open(\"nonexistent.txt\", \"r\") as file:\n",
        "        data = file.read()\n",
        "except FileNotFoundError as e:\n",
        "    print(\"File not found error handled:\", e)"
      ],
      "metadata": {
        "colab": {
          "base_uri": "https://localhost:8080/"
        },
        "id": "ecsiUjr0i89m",
        "outputId": "bf22b692-719c-414e-863e-f516cc64785f"
      },
      "execution_count": 21,
      "outputs": [
        {
          "output_type": "stream",
          "name": "stdout",
          "text": [
            "File not found error handled: [Errno 2] No such file or directory: 'nonexistent.txt'\n"
          ]
        }
      ]
    },
    {
      "cell_type": "markdown",
      "source": [
        "9. How can you read a file line by line and store its content in a list in Python ?"
      ],
      "metadata": {
        "id": "HBqCd4G4jAQn"
      }
    },
    {
      "cell_type": "code",
      "source": [
        "with open(\"sample.txt\", \"w\") as f:\n",
        "    f.write(\"First line\\nSecond line\\nThird line\")\n",
        "\n",
        "lines = []\n",
        "with open(\"sample.txt\", \"r\") as f:\n",
        "    lines = f.readlines()\n",
        "\n",
        "print(\"Lines in list:\", lines)"
      ],
      "metadata": {
        "colab": {
          "base_uri": "https://localhost:8080/"
        },
        "id": "Od42vNl-jGtA",
        "outputId": "b55c1de1-4ddc-44d9-ac99-c624e5d40960"
      },
      "execution_count": 22,
      "outputs": [
        {
          "output_type": "stream",
          "name": "stdout",
          "text": [
            "Lines in list: ['First line\\n', 'Second line\\n', 'Third line']\n"
          ]
        }
      ]
    },
    {
      "cell_type": "markdown",
      "source": [
        "10. How can you append data to an existing file in Python"
      ],
      "metadata": {
        "id": "vf1lP028jL5C"
      }
    },
    {
      "cell_type": "code",
      "source": [
        "with open(\"sample.txt\", \"a\") as f:\n",
        "    f.write(\"Appended line\\n\")\n",
        "\n",
        "with open(\"sample.txt\", \"r\") as f:\n",
        "    print(\"After appending:\\n\", f.read())"
      ],
      "metadata": {
        "colab": {
          "base_uri": "https://localhost:8080/"
        },
        "id": "RCFmQHJmjN_m",
        "outputId": "192cda4b-fe5f-41d2-e184-52b2a512d159"
      },
      "execution_count": 23,
      "outputs": [
        {
          "output_type": "stream",
          "name": "stdout",
          "text": [
            "After appending:\n",
            " First line\n",
            "Second line\n",
            "Third lineAppended line\n",
            "\n"
          ]
        }
      ]
    },
    {
      "cell_type": "markdown",
      "source": [
        "11. Write a Python program that uses a try-except block to handle an error when attempting to access a dictionary key that doesn't exist"
      ],
      "metadata": {
        "id": "cnOoHBsQjTEs"
      }
    },
    {
      "cell_type": "code",
      "source": [
        "my_dict = {\"name\": \"Alice\"}\n",
        "\n",
        "try:\n",
        "    print(my_dict[\"age\"])\n",
        "except KeyError as e:\n",
        "    print(f\"Key error handled: {e}\")"
      ],
      "metadata": {
        "colab": {
          "base_uri": "https://localhost:8080/"
        },
        "id": "T5sDN8FHjW_H",
        "outputId": "8b315506-3fd5-4365-ef7f-9c4ab36af772"
      },
      "execution_count": 24,
      "outputs": [
        {
          "output_type": "stream",
          "name": "stdout",
          "text": [
            "Key error handled: 'age'\n"
          ]
        }
      ]
    },
    {
      "cell_type": "markdown",
      "source": [
        "12. Write a program that demonstrates using multiple except blocks to handle different types of exceptionsF"
      ],
      "metadata": {
        "id": "ImL-VXnJjcYe"
      }
    },
    {
      "cell_type": "code",
      "source": [
        "try:\n",
        "    lst = [1, 2, 3]\n",
        "    print(lst[5])  # IndexError\n",
        "    print(my_dict[\"unknown\"])  # KeyError\n",
        "except IndexError:\n",
        "    print(\"Handled IndexError.\")\n",
        "except KeyError:\n",
        "    print(\"Handled KeyError.\")"
      ],
      "metadata": {
        "colab": {
          "base_uri": "https://localhost:8080/"
        },
        "id": "hOkiA893jf1W",
        "outputId": "970192c8-c26c-4625-fbf3-c877d6c78526"
      },
      "execution_count": 25,
      "outputs": [
        {
          "output_type": "stream",
          "name": "stdout",
          "text": [
            "Handled IndexError.\n"
          ]
        }
      ]
    },
    {
      "cell_type": "markdown",
      "source": [
        "13. How would you check if a file exists before attempting to read it in Python?"
      ],
      "metadata": {
        "id": "bTgE05MFjjNH"
      }
    },
    {
      "cell_type": "code",
      "source": [
        "import os\n",
        "\n",
        "filename = \"checkfile.txt\"\n",
        "\n",
        "if os.path.exists(filename):\n",
        "    with open(filename, \"r\") as f:\n",
        "        print(f.read())\n",
        "else:\n",
        "    print(f\"{filename} does not exist.\")\n"
      ],
      "metadata": {
        "colab": {
          "base_uri": "https://localhost:8080/"
        },
        "id": "cqktDWZbjnhN",
        "outputId": "bb3868ce-a73a-4aee-f8e6-eebacaec389e"
      },
      "execution_count": 26,
      "outputs": [
        {
          "output_type": "stream",
          "name": "stdout",
          "text": [
            "checkfile.txt does not exist.\n"
          ]
        }
      ]
    },
    {
      "cell_type": "markdown",
      "source": [
        "14. Write a program that uses the logging module to log both informational and error messages"
      ],
      "metadata": {
        "id": "CjKUEAoijqco"
      }
    },
    {
      "cell_type": "code",
      "source": [
        "logging.basicConfig(filename='log_demo.log', level=logging.DEBUG)\n",
        "\n",
        "logging.info(\"Starting the program.\")\n",
        "try:\n",
        "    1 / 0\n",
        "except ZeroDivisionError:\n",
        "    logging.error(\"Tried to divide by zero.\")\n",
        "    print(\"Logged info and error.\")\n"
      ],
      "metadata": {
        "colab": {
          "base_uri": "https://localhost:8080/"
        },
        "id": "2SGhP_-MjuK7",
        "outputId": "39395362-9713-47cb-cf43-794b9b3104e2"
      },
      "execution_count": 27,
      "outputs": [
        {
          "output_type": "stream",
          "name": "stderr",
          "text": [
            "ERROR:root:Tried to divide by zero.\n"
          ]
        },
        {
          "output_type": "stream",
          "name": "stdout",
          "text": [
            "Logged info and error.\n"
          ]
        }
      ]
    },
    {
      "cell_type": "markdown",
      "source": [
        "15.  Write a Python program that prints the content of a file and handles the case when the file is empty"
      ],
      "metadata": {
        "id": "FEokWTMKjzA0"
      }
    },
    {
      "cell_type": "code",
      "source": [
        "filename = \"empty_or_not.txt\"\n",
        "\n",
        "with open(filename, \"w\") as f:\n",
        "    f.write(\"\")  # write empty content\n",
        "\n",
        "with open(filename, \"r\") as f:\n",
        "    content = f.read()\n",
        "    if content:\n",
        "        print(\"File content:\", content)\n",
        "    else:\n",
        "        print(\"The file is empty.\")"
      ],
      "metadata": {
        "colab": {
          "base_uri": "https://localhost:8080/"
        },
        "id": "zstVg-w-j0wV",
        "outputId": "5b72fcf7-70f8-4a05-a049-f28ede611eb0"
      },
      "execution_count": 28,
      "outputs": [
        {
          "output_type": "stream",
          "name": "stdout",
          "text": [
            "The file is empty.\n"
          ]
        }
      ]
    },
    {
      "cell_type": "markdown",
      "source": [
        "16. Demonstrate how to use memory profiling to check the memory usage of a small program"
      ],
      "metadata": {
        "id": "DTkRu_bFj3kY"
      }
    },
    {
      "cell_type": "code",
      "source": [
        "!pip install -q memory_profiler\n",
        "\n",
        "from memory_profiler import memory_usage\n",
        "\n",
        "def small_program():\n",
        "    a = [i for i in range(10000)]\n",
        "    return sum(a)\n",
        "\n",
        "mem_usage = memory_usage(small_program)\n",
        "print(f\"Memory used: {max(mem_usage) - min(mem_usage)} MiB\")"
      ],
      "metadata": {
        "colab": {
          "base_uri": "https://localhost:8080/"
        },
        "id": "s9pYPOYZj8Ui",
        "outputId": "97f6d386-6d09-49e1-aaaf-9786ee85b7bb"
      },
      "execution_count": 29,
      "outputs": [
        {
          "output_type": "stream",
          "name": "stdout",
          "text": [
            "Memory used: 0.1640625 MiB\n"
          ]
        }
      ]
    },
    {
      "cell_type": "markdown",
      "source": [
        "17. Write a Python program to create and write a list of numbers to a file, one number per line"
      ],
      "metadata": {
        "id": "fr6K9YbRkCN2"
      }
    },
    {
      "cell_type": "code",
      "source": [
        "numbers = [1, 2, 3, 4, 5]\n",
        "\n",
        "with open(\"numbers.txt\", \"w\") as f:\n",
        "    for number in numbers:\n",
        "        f.write(f\"{number}\\n\")\n",
        "\n",
        "with open(\"numbers.txt\", \"r\") as f:\n",
        "    print(\"File content:\\n\", f.read())"
      ],
      "metadata": {
        "colab": {
          "base_uri": "https://localhost:8080/"
        },
        "id": "3B0hoCYDkGAk",
        "outputId": "9fd3cd48-9ecf-44b5-e35d-ac694ee9a2a3"
      },
      "execution_count": 30,
      "outputs": [
        {
          "output_type": "stream",
          "name": "stdout",
          "text": [
            "File content:\n",
            " 1\n",
            "2\n",
            "3\n",
            "4\n",
            "5\n",
            "\n"
          ]
        }
      ]
    },
    {
      "cell_type": "markdown",
      "source": [
        "18. How would you implement a basic logging setup that logs to a file with rotation after 1MB"
      ],
      "metadata": {
        "id": "REBu5UcEkItY"
      }
    },
    {
      "cell_type": "code",
      "source": [
        "import logging\n",
        "from logging.handlers import RotatingFileHandler\n",
        "\n",
        "handler = RotatingFileHandler(\"rotating.log\", maxBytes=1 * 1024 * 1024,\n",
        "backupCount=3)\n",
        "logging.basicConfig(handlers=[handler], level=logging.INFO)\n",
        "\n",
        "for i in range(1000):\n",
        "    logging.info(\"This is line number: %d\", i)\n",
        "\n",
        "print(\"Log with rotation configured.\")"
      ],
      "metadata": {
        "colab": {
          "base_uri": "https://localhost:8080/"
        },
        "id": "ZhIkuPr-kUJ4",
        "outputId": "c161101f-b889-4172-e6bb-b8e0d7a5f2b5"
      },
      "execution_count": 32,
      "outputs": [
        {
          "output_type": "stream",
          "name": "stdout",
          "text": [
            "Log with rotation configured.\n"
          ]
        }
      ]
    },
    {
      "cell_type": "markdown",
      "source": [
        "19.  Write a program that handles both IndexError and KeyError using a try-except blockF"
      ],
      "metadata": {
        "id": "-_NbXwGmkg3s"
      }
    },
    {
      "cell_type": "code",
      "source": [
        "try:\n",
        "    lst = [1, 2]\n",
        "    print(lst[5])\n",
        "    d = {\"a\": 1}\n",
        "    print(d[\"b\"])\n",
        "except IndexError:\n",
        "    print(\"Handled IndexError.\")\n",
        "except KeyError:\n",
        "    print(\"Handled KeyError.\")"
      ],
      "metadata": {
        "colab": {
          "base_uri": "https://localhost:8080/"
        },
        "id": "u-A1xdAfklkV",
        "outputId": "ced25867-498b-459a-fbe3-3831da8b1b2b"
      },
      "execution_count": 33,
      "outputs": [
        {
          "output_type": "stream",
          "name": "stdout",
          "text": [
            "Handled IndexError.\n"
          ]
        }
      ]
    },
    {
      "cell_type": "markdown",
      "source": [
        "20. How would you open a file and read its contents using a context manager in Python"
      ],
      "metadata": {
        "id": "WSCBX7Ynkns4"
      }
    },
    {
      "cell_type": "code",
      "source": [
        "with open(\"context_read.txt\", \"w\") as f:\n",
        "    f.write(\"Hello from context manager!\")\n",
        "\n",
        "with open(\"context_read.txt\", \"r\") as f:\n",
        "    print(\"Content:\", f.read())"
      ],
      "metadata": {
        "colab": {
          "base_uri": "https://localhost:8080/"
        },
        "id": "UP6aRDgMkry5",
        "outputId": "9587d055-5c65-4210-c62c-9d56ddbcb68a"
      },
      "execution_count": 34,
      "outputs": [
        {
          "output_type": "stream",
          "name": "stdout",
          "text": [
            "Content: Hello from context manager!\n"
          ]
        }
      ]
    },
    {
      "cell_type": "markdown",
      "source": [
        "21. Write a Python program that reads a file and prints the number of occurrences of a specific word"
      ],
      "metadata": {
        "id": "hPuHUq_0ku5I"
      }
    },
    {
      "cell_type": "code",
      "source": [
        "with open(\"word_count.txt\", \"w\") as f:\n",
        "    f.write(\"apple banana apple orange apple\")\n",
        "\n",
        "with open(\"word_count.txt\", \"r\") as f:\n",
        "    text = f.read()\n",
        "\n",
        "word = \"apple\"\n",
        "count = text.count(word)\n",
        "print(f\"The word '{word}' occurred {count} times.\")"
      ],
      "metadata": {
        "colab": {
          "base_uri": "https://localhost:8080/"
        },
        "id": "GOkcczZzk3Jc",
        "outputId": "607551a8-8619-4edf-a3d2-58562de69150"
      },
      "execution_count": 35,
      "outputs": [
        {
          "output_type": "stream",
          "name": "stdout",
          "text": [
            "The word 'apple' occurred 3 times.\n"
          ]
        }
      ]
    },
    {
      "cell_type": "markdown",
      "source": [
        "22. How can you check if a file is empty before attempting to read its contents"
      ],
      "metadata": {
        "id": "kwTV1m1Gk5x0"
      }
    },
    {
      "cell_type": "code",
      "source": [
        "filename = \"check_empty.txt\"\n",
        "with open(filename, \"w\") as f:\n",
        "    f.write(\"\")\n",
        "\n",
        "if os.path.getsize(filename) == 0:\n",
        "    print(\"The file is empty.\")\n",
        "else:\n",
        "    with open(filename, \"r\") as f:\n",
        "        print(f.read())"
      ],
      "metadata": {
        "colab": {
          "base_uri": "https://localhost:8080/"
        },
        "id": "VqGxblzdlAct",
        "outputId": "2f488768-0b5c-455a-c7de-4e3425fda196"
      },
      "execution_count": 36,
      "outputs": [
        {
          "output_type": "stream",
          "name": "stdout",
          "text": [
            "The file is empty.\n"
          ]
        }
      ]
    },
    {
      "cell_type": "markdown",
      "source": [
        "23. Write a Python program that writes to a log file when an error occurs during file handling."
      ],
      "metadata": {
        "id": "Zo1G0i-YlDK0"
      }
    },
    {
      "cell_type": "code",
      "source": [
        "logging.basicConfig(filename=\"file_error.log\", level=logging.ERROR)\n",
        "\n",
        "try:\n",
        "    with open(\"missingfile.txt\", \"r\") as f:\n",
        "        content = f.read()\n",
        "except Exception as e:\n",
        "    logging.error(f\"File error: {e}\")\n",
        "    print(\"Error logged during file operation.\")"
      ],
      "metadata": {
        "colab": {
          "base_uri": "https://localhost:8080/"
        },
        "id": "Bu88MEQtlGBU",
        "outputId": "9ed9a50e-11fd-48e2-98c5-b28b6583932e"
      },
      "execution_count": 37,
      "outputs": [
        {
          "output_type": "stream",
          "name": "stderr",
          "text": [
            "ERROR:root:File error: [Errno 2] No such file or directory: 'missingfile.txt'\n"
          ]
        },
        {
          "output_type": "stream",
          "name": "stdout",
          "text": [
            "Error logged during file operation.\n"
          ]
        }
      ]
    }
  ]
}